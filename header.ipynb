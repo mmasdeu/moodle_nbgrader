{
 "cells": [
  {
   "cell_type": "markdown",
   "metadata": {},
   "source": [
    "Abans d'entregar, assegureu-vos que tot el bloc funciona correctament. Primer, **reinicieu el kernel** (al menú, trieu Kernel$\\rightarrow$Restart) i després **executeu totes les cel·les** (al menú, trieu Cell$\\rightarrow$Run All).\n",
    "\n",
    "Assegureu-vos d'emplenar a tot arreu on digui `EL CODI AQUÍ` o \"LA RESPOSTA AQUÍ\", i també el vostre **NOM**, **COGNOMS** i **NIU** a sota:"
   ]
  },
  {
   "cell_type": "code",
   "execution_count": 1,
   "metadata": {},
   "outputs": [],
   "source": [
    "NOM = \"\"\n",
    "COGNOMS = \"\"\n",
    "NIU = \"\" # (7 dígits)"
   ]
  },
  {
   "cell_type": "markdown",
   "metadata": {},
   "source": [
    "---"
   ]
  }
 ],
 "metadata": {
  "kernelspec": {
   "display_name": "SageMath 9.0",
   "language": "sage",
   "name": "sagemath"
  },
  "language_info": {
   "codemirror_mode": {
    "name": "ipython",
    "version": 3
   },
   "file_extension": ".py",
   "mimetype": "text/x-python",
   "name": "python",
   "nbconvert_exporter": "python",
   "pygments_lexer": "ipython3",
   "version": "3.8.2"
  }
 },
 "nbformat": 4,
 "nbformat_minor": 1
}
